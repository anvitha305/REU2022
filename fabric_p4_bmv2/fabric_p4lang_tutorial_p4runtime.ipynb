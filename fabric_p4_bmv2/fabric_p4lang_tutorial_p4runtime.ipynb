{
 "cells": [
  {
   "cell_type": "markdown",
   "metadata": {},
   "source": [
    "# P4Lang Tutorials of FABRIC\n",
    "\n",
    "This notebook walks the user through setting up a FABRIC eperiment that is suitiable for completing the P4 tutorials created by [P4Lang](https://github.com/p4lang/tutorials). The tutorials were origianlly designed to use a mininet topology. This example replaces the mininet topology with a FABRIC experiemnt topology that may span multiple sites across the FABRIC testbed.\n",
    "\n",
    "Additional resources:\n",
    "- [FABRIC Knowledge Base](https://learn.fabric-testbed.net/)\n",
    "- [FABRIC Forums](https://learn.fabric-testbed.net/forums/)\n",
    "- [P4Lang Tutorials](https://github.com/p4lang/tutorials)\n",
    "- [P4Lang YouTube Presentations](https://www.youtube.com/channel/UCOQAFkDKucJWr-KafdJsdIQ)"
   ]
  },
  {
   "cell_type": "code",
   "execution_count": 15,
   "metadata": {},
   "outputs": [],
   "source": [
    "import os\n",
    "\n",
    "# If you are using the FABRIC JupyterHub, the following three evnrionment vars\n",
    "# were automatically provided when you logged in.\n",
    "#os.environ['FABRIC_CREDMGR_HOST']='cm.fabric-testbed.net'\n",
    "#os.environ['FABRIC_ORCHESTRATOR_HOST']='orchestrator.fabric-testbed.net'\n",
    "#os.environ['FABRIC_TOKEN_LOCATION']=os.environ['HOME']+'/work/fabric_token.json'\n",
    "\n",
    "# Bastion IPs\n",
    "os.environ['FABRIC_BASTION_HOST'] = 'bastion-1.fabric-testbed.net'\n",
    "\n",
    "# Set your Bastion username and private key\n",
    "os.environ['FABRIC_BASTION_USERNAME']='ace6qv_0037301381'\n",
    "#os.environ['FABRIC_BASTION_KEY_LOCATION']=os.environ['HOME']+'/work/fabric_bastion_key'\n",
    "os.environ['FABRIC_BASTION_KEY_LOCATION']=os.environ['HOME']+'/work/sshkey/aliciabastion'\n",
    "\n",
    "# Set the keypair FABRIC will install in your slice. \n",
    "os.environ['FABRIC_SLICE_PRIVATE_KEY_FILE']=os.environ['HOME']+'/work/sshkey/id_rsa'\n",
    "os.environ['FABRIC_SLICE_PUBLIC_KEY_FILE']=os.environ['HOME']+'/work/sshkey/id_rsa.pub'\n",
    "\n",
    "# If your slice private key uses a passphrase, set the passphrase\n",
    "#from getpass import getpass\n",
    "#print('Please input private key passphrase. Press enter for no passphrase.')\n",
    "#os.environ['FABRIC_SLICE_PRIVATE_KEY_PASSPHRASE']=getpass()"
   ]
  },
  {
   "cell_type": "markdown",
   "metadata": {},
   "source": [
    "## Basic FABRIC Slice Configuration"
   ]
  },
  {
   "cell_type": "code",
   "execution_count": 16,
   "metadata": {},
   "outputs": [],
   "source": [
    "import json\n",
    "import traceback\n",
    "from fabrictestbed_extensions.fablib.fablib import fablib"
   ]
  },
  {
   "cell_type": "code",
   "execution_count": 17,
   "metadata": {},
   "outputs": [
    {
     "name": "stdout",
     "output_type": "stream",
     "text": [
      "Error: 'NoneType' object has no attribute 'resources'\n"
     ]
    }
   ],
   "source": [
    "try:\n",
    "    available_resources = fablib.get_available_resources()\n",
    "    print(f\"Available Resources: {available_resources}\")\n",
    "    available_resources.draw()\n",
    "except Exception as e:\n",
    "    print(f\"Error: {e}\")"
   ]
  },
  {
   "cell_type": "markdown",
   "metadata": {
    "tags": []
   },
   "source": [
    "## Configure Slice Parameters\n",
    "\n",
    "This section builds the experiment slice \n",
    "\n",
    "<img src=\"figs/fabric_slice.png\" width=\"800\"/>\n",
    "\n"
   ]
  },
  {
   "cell_type": "code",
   "execution_count": 18,
   "metadata": {},
   "outputs": [],
   "source": [
    "# Slice \n",
    "slice_name = 'P4Lang_Tutorial'\n",
    "\n",
    "# Switches\n",
    "s1_name = \"s1\"\n",
    "s2_name = \"s2\"\n",
    "s3_name = \"s3\"\n",
    "\n",
    "switch_cores = 2\n",
    "switch_ram = 8\n",
    "switch_disk = 40\n",
    "\n",
    "# Hosts\n",
    "h1_name = \"h1\"\n",
    "h2_name = \"h2\"\n",
    "h3_name = \"h3\"\n",
    "\n",
    "h1_ip=\"10.0.1.1\"\n",
    "h2_ip=\"10.0.2.2\"\n",
    "h3_ip=\"10.0.3.3\"\n",
    "\n",
    "host_cores = 2\n",
    "host_ram = 8\n",
    "host_disk = 10\n",
    "# Sites\n",
    "site_1 = 'MICH' # 'SALT' # 'NCSA' # s'WASH' # 'MAX' # 'STAR' # 'NCSA' # 'MAX' # 'UTAH' # 'DALL' # 'TACC' # 'MAX'\n",
    "site_2 = 'MICH' # 'SALT' # 'NCSA' # s'WASH' # 'MAX' # 'STAR' # 'NCSA' # 'MAX' # 'UTAH' # 'DALL' # 'TACC' # 'MAX'\n",
    "site_3 = 'MICH' # 'SALT' # 'NCSA' # s'WASH' # 'MAX' # 'STAR' # 'NCSA' # 'MAX' # 'UTAH' # 'DALL' # 'TACC' # 'MAX' #'NCSA' #'STAR' #'TACC' #'STAR' #'NCSA' #'UTAH'\n",
    "\n",
    "net_h1_name = 'net_h1'\n",
    "net_h2_name = 'net_h2'\n",
    "net_h3_name = 'net_h3'\n",
    "\n",
    "net_s1_s2_name = 'net_s1_s2'\n",
    "net_s2_s3_name = 'net_s2_s3'\n",
    "net_s1_s3_name = 'net_s1_s3'\n",
    "\n",
    "# All node properties\n",
    "#username = 'ubuntu'\n",
    "image = 'default_ubuntu_20'\n",
    "vlan = '1000'\n",
    "#image_type = 'qcow2'\n",
    "\n"
   ]
  },
  {
   "cell_type": "markdown",
   "metadata": {},
   "source": [
    "### Create the Slice"
   ]
  },
  {
   "cell_type": "code",
   "execution_count": 19,
   "metadata": {},
   "outputs": [
    {
     "name": "stdout",
     "output_type": "stream",
     "text": [
      "Error: 'NoneType' object has no attribute 'create'\n"
     ]
    },
    {
     "name": "stderr",
     "output_type": "stream",
     "text": [
      "Traceback (most recent call last):\n",
      "  File \"/tmp/ipykernel_89/2298941463.py\", line 61, in <module>\n",
      "    slice.submit() #(wait_progress=True)\n",
      "  File \"/opt/conda/lib/python3.9/site-packages/fabrictestbed_extensions/fablib/slice.py\", line 1205, in submit\n",
      "    return_status, slice_reservations = fablib.get_slice_manager().create(slice_name=self.slice_name,\n",
      "AttributeError: 'NoneType' object has no attribute 'create'\n"
     ]
    }
   ],
   "source": [
    "try:\n",
    "    #Create Slice\n",
    "    slice = fablib.new_slice(name=slice_name)\n",
    "    \n",
    "    # Add switch node s1\n",
    "    s1 = slice.add_node(name=s1_name, site=site_1)\n",
    "    s1.set_capacities(cores=switch_cores, ram=switch_ram, disk=switch_disk)\n",
    "    s1.set_image(image)\n",
    "    [s1_iface_local] = s1.add_component(model='NIC_Basic', name=\"s1_local_nic\").get_interfaces()\n",
    "    [s1_iface_to_s2, s1_iface_to_s3] = s1.add_component(model='NIC_ConnectX_6', name=\"s1_switch_nic\").get_interfaces()\n",
    "    s1_iface_to_s2.set_vlan(vlan=vlan)\n",
    "    s1_iface_to_s3.set_vlan(vlan=vlan)\n",
    "\n",
    "    # Add switch node s2\n",
    "    s2 = slice.add_node(name=s2_name, site=site_2)\n",
    "    s2.set_capacities(cores=switch_cores, ram=switch_ram, disk=switch_disk)\n",
    "    s2.set_image(image)\n",
    "    [s2_iface_local] = s2.add_component(model='NIC_Basic', name=\"s2_local_nic\").get_interfaces()\n",
    "    [s2_iface_to_s1, s2_iface_to_s3] = s2.add_component(model='NIC_ConnectX_5', name=\"s2_switch_nic\").get_interfaces()\n",
    "    s2_iface_to_s1.set_vlan(vlan=vlan)\n",
    "    s2_iface_to_s3.set_vlan(vlan=vlan)\n",
    "   \n",
    "    # Add switch node s3\n",
    "    s3 = slice.add_node(name=s3_name, site=site_3)\n",
    "    s3.set_capacities(cores=switch_cores, ram=switch_ram, disk=switch_disk)\n",
    "    s3.set_image(image)\n",
    "    [s3_iface_local] = s3.add_component(model='NIC_Basic', name=\"s3_local_nic\").get_interfaces()\n",
    "    [s3_iface_to_s1, s3_iface_to_s2] = s3.add_component(model='NIC_ConnectX_5', name=\"s3_switch_nic\").get_interfaces()\n",
    "    s3_iface_to_s1.set_vlan(vlan=vlan)\n",
    "    s3_iface_to_s2.set_vlan(vlan=vlan)\n",
    "    \n",
    "    # Add host node h1\n",
    "    h1 = slice.add_node(name=h1_name, site=site_1)\n",
    "    h1.set_capacities(cores=host_cores, ram=host_ram, disk=host_disk)\n",
    "    h1.set_image(image)\n",
    "    [h1_iface] = h1.add_component(model='NIC_Basic', name=\"h1_nic\").get_interfaces()\n",
    "    \n",
    "    # Add host node h2\n",
    "    h2 = slice.add_node(name=h2_name, site=site_2)\n",
    "    h2.set_capacities(cores=host_cores, ram=host_ram, disk=host_disk)\n",
    "    h2.set_image(image)\n",
    "    [h2_iface] = h2.add_component(model='NIC_Basic', name=\"h2_nic\").get_interfaces()\n",
    " \n",
    "    # Add host node h3\n",
    "    h3 = slice.add_node(name=h3_name, site=site_3)\n",
    "    h3.set_capacities(cores=host_cores, ram=host_ram, disk=host_disk)\n",
    "    h3.set_image(image)\n",
    "    [h3_iface] = h3.add_component(model='NIC_Basic', name=\"h3_nic\").get_interfaces()\n",
    "    \n",
    "    #Add swtich networks\n",
    "    switch_net1 = slice.add_l2network(name=net_s1_s2_name, interfaces=[s1_iface_to_s2, s2_iface_to_s1])\n",
    "    swtich_net2 = slice.add_l2network(name=net_s2_s3_name, interfaces=[s2_iface_to_s3, s3_iface_to_s2])\n",
    "    swtich_net3 = slice.add_l2network(name=net_s1_s3_name, interfaces=[s3_iface_to_s1, s1_iface_to_s3])\n",
    "\n",
    "    #Add host networks \n",
    "    host_net1 = slice.add_l2network(name=net_h1_name, interfaces=[s1_iface_local, h1_iface])\n",
    "    host_net2 = slice.add_l2network(name=net_h2_name, interfaces=[s2_iface_local, h2_iface])\n",
    "    host_net3 = slice.add_l2network(name=net_h3_name, interfaces=[s3_iface_local, h3_iface])\n",
    "    \n",
    "    #Submit Slice Request\n",
    "    slice.submit() #(wait_progress=True)\n",
    "except Exception as e:\n",
    "    print(f\"Error: {e}\")\n",
    "    traceback.print_exc()\n",
    "    "
   ]
  },
  {
   "cell_type": "markdown",
   "metadata": {},
   "source": [
    "# timeout needs to be extended"
   ]
  },
  {
   "cell_type": "markdown",
   "metadata": {
    "tags": []
   },
   "source": [
    "## Get the Slice"
   ]
  },
  {
   "cell_type": "code",
   "execution_count": null,
   "metadata": {
    "tags": []
   },
   "outputs": [],
   "source": [
    "try:\n",
    "    slice = fablib.get_slice(name=slice_name)\n",
    "    for node in slice.get_nodes():\n",
    "        print(\"Node:\")\n",
    "        print(f\"   Name              : {node.get_name()}\")\n",
    "        print(f\"   Cores             : {node.get_cores()}\")\n",
    "        print(f\"   RAM               : {node.get_ram()}\")\n",
    "        print(f\"   Disk              : {node.get_disk()}\")\n",
    "        print(f\"   Image             : {node.get_image()}\")\n",
    "        print(f\"   Image Type        : {node.get_image_type()}\")\n",
    "        print(f\"   Host              : {node.get_host()}\")\n",
    "        print(f\"   Site              : {node.get_site()}\")\n",
    "        print(f\"   Management IP     : {node.get_management_ip()}\")\n",
    "        print(f\"   Reservation ID    : {node.get_reservation_id()}\")\n",
    "        print(f\"   Reservation State : {node.get_reservation_state()}\")\n",
    "        print(f\"   SSH Command       : {node.get_ssh_command()}\")\n",
    "        print(f\"   Components        :  \")\n",
    "        for component in node.get_components():\n",
    "            print(f\"      Name             : {component.get_name()}\")\n",
    "            print(f\"      Details          : {component.get_details()}\")\n",
    "            print(f\"      Disk (G)         : {component.get_disk()}\")\n",
    "            print(f\"      Units            : {component.get_unit()}\")\n",
    "            print(f\"      PCI Address      : {component.get_pci_addr()}\")\n",
    "            print(f\"      Model            : {component.get_model()}\")\n",
    "            print(f\"      Type             : {component.get_type()}\") \n",
    "        print(f\"   Interfaces        :  \")\n",
    "        for interface in node.get_interfaces():\n",
    "            print(f\"       Name                : {interface.get_name()}\")\n",
    "            print(f\"           Bandwidth           : {interface.get_bandwidth()}\")\n",
    "            print(f\"           VLAN                : {interface.get_vlan()}\")  \n",
    "            print(f\"           MAC                 : {interface.get_mac()}\") \n",
    "            print(f\"           OS iface name       : {interface.get_os_interface()}\")\n",
    "    for network in slice.get_l2networks():\n",
    "        print(\"Network:\")\n",
    "        print(f\"    Name:            {network.get_name()}\")\n",
    "    print(f\"Interface Map: {slice.get_interface_map()}\")\n",
    "except Exception as e:\n",
    "    print(f\"Fail: {e}\")\n",
    "    traceback.print_exc()"
   ]
  },
  {
   "cell_type": "code",
   "execution_count": null,
   "metadata": {},
   "outputs": [],
   "source": [
    "from ipaddress import ip_address, IPv4Address, IPv6Address, IPv4Network, IPv6Network\n",
    "\n",
    "s1_ip_type = \"\"\n",
    "s2_ip_type = \"\"\n",
    "s3_ip_type = \"\"\n",
    "h1_ip_type = \"\"\n",
    "h2_ip_type = \"\"\n",
    "h3_ip_type = \"\"\n",
    "\n",
    "try:\n",
    "    slice = fablib.get_slice(name=slice_name)\n",
    "    for node in slice.get_nodes():\n",
    "        if(node.get_name() == \"s1\"):\n",
    "            if type(ip_address(node.get_management_ip())) is IPv4Address:\n",
    "                s1_ip_type = \"IPv4\"\n",
    "            elif type(ip_address(node.get_management_ip())) is IPv6Address:\n",
    "                s1_ip_type = \"IPv6\"\n",
    "            else:\n",
    "                s1_ip_type = \"Unknown\"\n",
    "        if(node.get_name() == \"s2\"):\n",
    "            if type(ip_address(node.get_management_ip())) is IPv4Address:\n",
    "                s2_ip_type = \"IPv4\"\n",
    "            elif type(ip_address(node.get_management_ip())) is IPv6Address:\n",
    "                s2_ip_type = \"IPv6\"\n",
    "            else:\n",
    "                s2_ip_type = \"Unknown\"\n",
    "        if(node.get_name() == \"s3\"):\n",
    "            if type(ip_address(node.get_management_ip())) is IPv4Address:\n",
    "                s3_ip_type = \"IPv4\"\n",
    "            elif type(ip_address(node.get_management_ip())) is IPv6Address:\n",
    "                s3_ip_type = \"IPv6\"\n",
    "            else:\n",
    "                s3_ip_type = \"Unknown\"\n",
    "        if(node.get_name() == \"h1\"):\n",
    "            if type(ip_address(node.get_management_ip())) is IPv4Address:\n",
    "                h1_ip_type = \"IPv4\"\n",
    "            elif type(ip_address(node.get_management_ip())) is IPv6Address:\n",
    "                h1_ip_type = \"IPv6\"\n",
    "            else:\n",
    "                h1_ip_type = \"Unknown\"\n",
    "        if(node.get_name() == \"h2\"):\n",
    "            if type(ip_address(node.get_management_ip())) is IPv4Address:\n",
    "                h2_ip_type = \"IPv4\"\n",
    "            elif type(ip_address(node.get_management_ip())) is IPv6Address:\n",
    "                h2_ip_type = \"IPv6\"\n",
    "            else:\n",
    "                h2_ip_type = \"Unknown\"\n",
    "        if(node.get_name() == \"h3\"):\n",
    "            if type(ip_address(node.get_management_ip())) is IPv4Address:\n",
    "                h3_ip_type = \"IPv4\"\n",
    "            elif type(ip_address(node.get_management_ip())) is IPv6Address:\n",
    "                h3_ip_type = \"IPv6\"\n",
    "            else:\n",
    "                h3_ip_type = \"Unknown\"\n",
    "except Exception as e:\n",
    "    print(f\"Exception: {e}\")\n",
    "print(s1_ip_type)\n",
    "print(s2_ip_type)\n",
    "print(s3_ip_type)\n",
    "print(h1_ip_type)\n",
    "print(h2_ip_type)\n",
    "print(h3_ip_type)"
   ]
  },
  {
   "cell_type": "markdown",
   "metadata": {},
   "source": [
    "## Configure Nodes\n"
   ]
  },
  {
   "cell_type": "code",
   "execution_count": null,
   "metadata": {},
   "outputs": [],
   "source": [
    "host_config_script_h1 = \"\"\n",
    "if(s1_ip_type == \"IPv4\"):\n",
    "    host_config_scrip_h1 = 'sudo apt-get update -qq && sudo apt-get install -qq -y python3-scapy && git clone https://github.com/p4lang/tutorials.git'\n",
    "else:\n",
    "    host_config_script_h1 = 'sudo apt-get update -qq && sudo apt-get install -qq -y python3-scapy && git config --global http.proxy \"socks5h://localhost:4567\" && git clone https://github.com/p4lang/tutorials.git'\n",
    "host_config_script_h2 = \"\"\n",
    "if(s1_ip_type == \"IPv4\"):\n",
    "    host_config_scrip_h2 = 'sudo apt-get update -qq && sudo apt-get install -qq -y python3-scapy && git clone https://github.com/p4lang/tutorials.git'\n",
    "else:\n",
    "    host_config_script_h2 = 'sudo apt-get update -qq && sudo apt-get install -qq -y python3-scapy && git config --global http.proxy \"socks5h://localhost:4567\" && git clone https://github.com/p4lang/tutorials.git'\n",
    "host_config_script_h3 = \"\"\n",
    "if(s1_ip_type == \"IPv4\"):\n",
    "    host_config_scrip_h3 = 'sudo apt-get update -qq && sudo apt-get install -qq -y python3-scapy && git clone https://github.com/p4lang/tutorials.git'\n",
    "else:\n",
    "    host_config_script_h3 = 'sudo apt-get update -qq && sudo apt-get install -qq -y python3-scapy && git config --global http.proxy \"socks5h://localhost:4567\" && git clone https://github.com/p4lang/tutorials.git'\n",
    "    \n",
    "try:\n",
    "    h1 = slice.get_node(name=h1_name)        \n",
    "    h1_os_iface = h1.get_interface(network_name=net_h1_name)\n",
    "#     iface1.set_ip(ip=h1_ip, cidr=\"24\")\n",
    "    h1_os_iface.set_ip(ip=h1_ip, cidr=\"24\")\n",
    "    \n",
    "    stdout, stderr = h1.execute(host_config_script_h1)\n",
    "    print(\"stdout: {}\".format(stdout))\n",
    "except Exception as e:\n",
    "    print(f\"Error: {e}\")\n",
    "    traceback.print_exc()\n",
    "    \n",
    "try:\n",
    "    h2 = slice.get_node(name=h2_name)\n",
    "    h2_os_iface = h2.get_interface(network_name=net_h2_name)\n",
    "    h2_os_iface.set_ip(ip=h2_ip, cidr=\"24\")\n",
    "    \n",
    "    \n",
    "    stdout, stderr = h2.execute(host_config_script_h2)\n",
    "    print(\"stdout: {}\".format(stdout))\n",
    "except Exception as e:\n",
    "    print(f\"Error: {e}\")\n",
    "    traceback.print_exc()\n",
    "    \n",
    "try:\n",
    "    h3 = slice.get_node(name=h3_name)\n",
    "    h3_os_iface = h3.get_interface(network_name=net_h3_name)\n",
    "    h3_os_iface.set_ip(ip=h3_ip, cidr=\"24\")\n",
    "    \n",
    "    stdout, stderr = h3.execute(host_config_script_h3)\n",
    "    print(\"stdout: {}\".format(stdout))\n",
    "except Exception as e:\n",
    "    print(f\"Error: {e}\")\n",
    "    traceback.print_exc()"
   ]
  },
  {
   "cell_type": "markdown",
   "metadata": {},
   "source": [
    "## Configure Switches\n",
    "\n",
    "Use ssh to configure the ifaces on the switches. This step requires testing the interfaces to figure out which interface is connected to which network.\n"
   ]
  },
  {
   "cell_type": "markdown",
   "metadata": {},
   "source": [
    "#### Setup P4 Docker\n",
    "\n"
   ]
  },
  {
   "cell_type": "markdown",
   "metadata": {},
   "source": [
    "Below are commands to let sudo work with the global proxy."
   ]
  },
  {
   "cell_type": "code",
   "execution_count": null,
   "metadata": {},
   "outputs": [],
   "source": [
    "try:\n",
    "    s1 = slice.get_node(name=s1_name)\n",
    "    s1_h1_os_iface = s1.get_interface(network_name=net_h1_name)\n",
    "    s1_s2_os_iface = s1.get_interface(network_name=net_s1_s2_name)\n",
    "    s1_s3_os_iface = s1.get_interface(network_name=net_s1_s3_name)\n",
    "    \n",
    "    file_attributes = s1.upload_file('scripts/router_setup_p4_bmv2_container.sh','router_setup_p4_bmv2_container.sh')\n",
    "    #print(\"file_attributes: {}\".format(file_attributes))\n",
    "\n",
    "    stdout = s1.execute(f\"chmod +x router_setup_p4_bmv2_container.sh sudo sh -c './router_setup_p4_bmv2_container.sh {s1_h1_os_iface.get_os_interface()} {s1_s2_os_iface.get_os_interface()} {s1_s3_os_iface.get_os_interface()} {s1_ip_type} > /tmp/script.log 2>&1'\")\n",
    "    print(\"stdout: {}\".format(stdout))\n",
    "\n",
    "except Exception as e:\n",
    "    print(f\"Error: {e}\")\n",
    "    traceback.print_exc()"
   ]
  },
  {
   "cell_type": "code",
   "execution_count": null,
   "metadata": {},
   "outputs": [],
   "source": [
    "try:\n",
    "    s2 = slice.get_node(name=s2_name)\n",
    "    s2_h2_os_iface = s2.get_interface(network_name=net_h2_name)\n",
    "    s2_s1_os_iface = s2.get_interface(network_name=net_s1_s2_name)\n",
    "    s2_s3_os_iface = s2.get_interface(network_name=net_s2_s3_name)\n",
    "    \n",
    "    file_attributes = s2.upload_file('scripts/router_setup_p4_bmv2_container.sh','router_setup_p4_bmv2_container.sh')\n",
    "    #print(\"file_attributes: {}\".format(file_attributes))\n",
    "\n",
    "    stdout = s2.execute(f\"chmod +x router_setup_p4_bmv2_container.sh && sudo sh -c './router_setup_p4_bmv2_container.sh {s2_h2_os_iface.get_os_interface()} {s2_s1_os_iface.get_os_interface()} {s2_s3_os_iface.get_os_interface()} {s2_ip_type} > /tmp/script.log 2>&1'\")\n",
    "    print(\"stdout: {}\".format(stdout))\n",
    "    \n",
    "except Exception as e:\n",
    "    print(f\"Error: {e}\")\n",
    "    traceback.print_exc() "
   ]
  },
  {
   "cell_type": "code",
   "execution_count": null,
   "metadata": {},
   "outputs": [],
   "source": [
    "try:\n",
    "    s3 = slice.get_node(name=s3_name)\n",
    "    s3_h3_os_iface = s3.get_interface(network_name=net_h3_name)\n",
    "    s3_s1_os_iface = s3.get_interface(network_name=net_s1_s3_name)\n",
    "    s3_s2_os_iface = s3.get_interface(network_name=net_s2_s3_name)\n",
    "     \n",
    "    file_attributes = s3.upload_file('scripts/router_setup_p4_bmv2_container.sh','router_setup_p4_bmv2_container.sh')\n",
    "    #print(\"file_attributes: {}\".format(file_attributes))\n",
    "\n",
    "    stdout = s3.execute(f\"chmod +x router_setup_p4_bmv2_container.sh && sudo sh -c './router_setup_p4_bmv2_container.sh {s3_h3_os_iface.get_os_interface()} {s3_s1_os_iface.get_os_interface()} {s3_s2_os_iface.get_os_interface()} {s3_ip_type} > /tmp/script.log 2>&1'\")\n",
    "    print(\"stdout: {}\".format(stdout))\n",
    "    \n",
    "except Exception as e:\n",
    "    print(f\"Error: {e}\")\n",
    "    traceback.print_exc() "
   ]
  },
  {
   "cell_type": "markdown",
   "metadata": {},
   "source": [
    "### Confgure P4 Switch Tables\n",
    "\n",
    "Edit sX_commands.txt to change the values"
   ]
  },
  {
   "cell_type": "code",
   "execution_count": null,
   "metadata": {},
   "outputs": [],
   "source": [
    "for switch_name in [s1_name, s2_name, s3_name]:\n",
    "    switch_node = slice.get_node(name=switch_name)\n",
    "    management_ip_switch = str(switch_node.get_management_ip())\n",
    "    print(\"Swtitch Name        : {}\".format(switch_node.get_name()))\n",
    "    print(\"Management IP    : {}\".format(management_ip_switch))\n",
    "    \n",
    "    \n",
    "    #Configure P4 Tables\n",
    "    cmd_file=f'{switch_name}_commands.txt'\n",
    "    print(cmd_file)\n",
    "    file_attributes = switch_node.upload_file(f'scripts/{cmd_file}',cmd_file)\n",
    "    print(\"file_attributes: {}\".format(file_attributes))\n",
    "\n",
    "    #stdout = execute_script(username, switch_node, f\"sudo sh -c 'cat {cmd_file} | docker exec -it fabric_p4 simple_switch_CLI  > /tmp/script.log 2>&1'\")\n",
    "    stdout = switch_node.execute(f\"sudo sh -c 'cat {cmd_file} | docker exec -i fabric_p4 simple_switch_CLI'\")\n",
    "    print(\"stdout: {}\".format(stdout))"
   ]
  },
  {
   "cell_type": "markdown",
   "metadata": {},
   "source": [
    "## The switches are now configured and running. Now we are going to send packets over the switches."
   ]
  },
  {
   "cell_type": "markdown",
   "metadata": {},
   "source": [
    "We are going to use `send.py` and `receive.py`. We are going to re-upload them to the servers and use them. Make sure to modify the interface names in the script accordingly."
   ]
  },
  {
   "cell_type": "code",
   "execution_count": null,
   "metadata": {},
   "outputs": [],
   "source": [
    "h1.upload_file('scripts/send.py', 'send.py')"
   ]
  },
  {
   "cell_type": "code",
   "execution_count": null,
   "metadata": {},
   "outputs": [],
   "source": [
    "h2.upload_file('scripts/receive.py', 'receive.py')"
   ]
  },
  {
   "cell_type": "code",
   "execution_count": null,
   "metadata": {},
   "outputs": [],
   "source": [
    "h1.execute('sudo mv send.py tutorials/exercises/basic_tunnel/send_modified.py')"
   ]
  },
  {
   "cell_type": "code",
   "execution_count": null,
   "metadata": {},
   "outputs": [],
   "source": [
    "h2.execute('sudo mv receive.py tutorials/exercises/basic_tunnel/receive_modified.py')"
   ]
  },
  {
   "cell_type": "markdown",
   "metadata": {},
   "source": [
    "## Below, we send a few packets."
   ]
  },
  {
   "cell_type": "code",
   "execution_count": null,
   "metadata": {},
   "outputs": [],
   "source": [
    "h1.execute('tmux new -d \\'timeout 30 watch -n 5 sudo python3 tutorials/exercises/basic_tunnel/send_modified.py --dst_id 2 10.10.2.2 \"message100\"\\'')"
   ]
  },
  {
   "cell_type": "markdown",
   "metadata": {},
   "source": [
    "## And below we receive them."
   ]
  },
  {
   "cell_type": "code",
   "execution_count": null,
   "metadata": {},
   "outputs": [],
   "source": [
    "print(h2.execute('sudo timeout 30 sudo python3 tutorials/exercises/basic_tunnel/receive_modified.py')[0])"
   ]
  },
  {
   "cell_type": "markdown",
   "metadata": {},
   "source": [
    "## Delete Slice"
   ]
  },
  {
   "cell_type": "code",
   "execution_count": null,
   "metadata": {},
   "outputs": [],
   "source": [
    "try:\n",
    "    slice = fablib.get_slice(name=slice_name)\n",
    "    slice.delete()\n",
    "except Exception as e:\n",
    "    print(f\"Fail: {e}\")\n",
    "    traceback.print_exc()"
   ]
  }
 ],
 "metadata": {
  "kernelspec": {
   "display_name": "Python 3 (ipykernel)",
   "language": "python",
   "name": "python3"
  },
  "language_info": {
   "codemirror_mode": {
    "name": "ipython",
    "version": 3
   },
   "file_extension": ".py",
   "mimetype": "text/x-python",
   "name": "python",
   "nbconvert_exporter": "python",
   "pygments_lexer": "ipython3",
   "version": "3.9.2"
  }
 },
 "nbformat": 4,
 "nbformat_minor": 4
}
